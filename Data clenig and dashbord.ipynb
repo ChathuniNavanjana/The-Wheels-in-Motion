{
 "cells": [
  {
   "cell_type": "code",
   "execution_count": null,
   "metadata": {},
   "outputs": [],
   "source": [
    "import pandas as pd\n",
    "import glob\n",
    "\n",
    "file_paths = glob.glob('/content/Untitled Folder/*.csv')\n",
    "all_dataframes = []\n",
    "for file_path in file_paths:\n",
    "    df = pd.read_csv(file_path)\n",
    "    all_dataframes.append(df)\n",
    "\n",
    "vehicles_df = pd.concat(all_dataframes, ignore_index=False)\n",
    "\n",
    "vehicles_df.head()\n",
    "vehicles_df.shape"
   ]
  },
  {
   "cell_type": "code",
   "execution_count": null,
   "metadata": {},
   "outputs": [],
   "source": []
  },
  {
   "cell_type": "markdown",
   "metadata": {},
   "source": [
    "## Display precentage of null valus"
   ]
  },
  {
   "cell_type": "code",
   "execution_count": null,
   "metadata": {},
   "outputs": [],
   "source": [
    "\n",
    "null_counts = vehicles_df.isnull().sum()\n",
    "print(null_counts)\n",
    "\n",
    "null_counts = df.isnull().sum()\n",
    "null_percentage = (null_counts / len(df)) * 100\n",
    "null_percentage = null_percentage.round(2)\n",
    "print(null_percentage)\n"
   ]
  },
  {
   "cell_type": "code",
   "execution_count": null,
   "metadata": {},
   "outputs": [],
   "source": []
  },
  {
   "cell_type": "markdown",
   "metadata": {},
   "source": [
    "## Display the structure of the DataFrame"
   ]
  },
  {
   "cell_type": "code",
   "execution_count": null,
   "metadata": {},
   "outputs": [],
   "source": [
    "\n",
    "vehicles_df.drop_duplicates(keep='first', inplace=True)\n",
    "null_counts = vehicles_df.isnull().sum()\n",
    "print(null_counts)\n",
    "vehicles_df.isnull().sum().sum()\n",
    "print(vehicles_df.info())\n",
    "print(vehicles_df.describe())\n",
    "print(vehicles_df.head())\n",
    "print(123)\n",
    "print(123)"
   ]
  },
  {
   "cell_type": "code",
   "execution_count": null,
   "metadata": {},
   "outputs": [],
   "source": [
    "#Drop the valus that has all tha valus are null\n",
    "vehicles_df.dropna(how='all', inplace=True)\n",
    "\n",
    "# Check to confirm no null values remain\n",
    "vehicles_df[['Vehicle Model Year', 'ZIP Code']] = vehicles_df[['Vehicle Model Year', 'ZIP Code']].interpolate(method='linear')\n",
    "\n",
    "#fill the missing valus\n",
    "vehicles_df=vehicles_df.fillna({'Vehicle Model':'unknown','Vehicle Make':'unknown','Vehicle Color':'unknown','Vehicle Make':'unknown','Address':'unknown','City':'unknown','State':'unknown','Taxi Affiliation':'Affiliation unknown','Taxi Medallion License Management ':'unknown'})\n",
    "\n",
    "null_counts = vehicles_df.isnull().sum()\n",
    "print(null_counts)"
   ]
  },
  {
   "cell_type": "code",
   "execution_count": null,
   "metadata": {},
   "outputs": [],
   "source": [
    "vehicles_df.head()"
   ]
  }
 ],
 "metadata": {
  "language_info": {
   "name": "python"
  }
 },
 "nbformat": 4,
 "nbformat_minor": 2
}
